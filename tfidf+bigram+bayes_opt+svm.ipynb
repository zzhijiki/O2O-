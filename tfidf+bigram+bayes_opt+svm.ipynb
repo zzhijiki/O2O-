{
 "cells": [
  {
   "cell_type": "code",
   "execution_count": 3,
   "metadata": {},
   "outputs": [],
   "source": [
    "import re\n",
    "import matplotlib.pyplot as plt\n",
    "import jieba\n",
    "import numpy as np\n",
    "from collections import Counter,defaultdict\n",
    "import pandas as pd\n",
    "import tqdm\n",
    "import pkuseg \n",
    "from sklearn.model_selection import train_test_split"
   ]
  },
  {
   "cell_type": "code",
   "execution_count": 6,
   "metadata": {},
   "outputs": [],
   "source": [
    "train_file = \"data/train.csv\"\n",
    "test_file = \"data/test_new.csv\"\n",
    "sample_file= \"data/sample.csv\""
   ]
  },
  {
   "cell_type": "code",
   "execution_count": 7,
   "metadata": {},
   "outputs": [],
   "source": [
    "df_train=pd.read_csv(train_file, delimiter=\"\\t\")\n",
    "df_test=pd.read_csv(test_file, delimiter=\",\")\n",
    "\n",
    "X_train_raw=np.array(df_train[\"comment\"])\n",
    "y_train_raw=np.array(df_train[\"label\"])\n",
    "X_test_raw=np.array(df_test[\"comment\"])\n",
    "X_test_id=np.array(df_test[\"id\"])\n",
    "\n",
    "# pat=re.compile(r'[\\u4e00-\\u9fa5]+')\n",
    "# X_train_raw=[ \"\".join(pat.findall(x)) for x in X_train_raw]\n",
    "# X_test_raw=[ \"\".join(pat.findall(x)) for x in X_test_raw]"
   ]
  },
  {
   "cell_type": "code",
   "execution_count": 8,
   "metadata": {},
   "outputs": [],
   "source": [
    "def process_file(X_train_raw,X_test_raw):\n",
    "    \"\"\"\n",
    "    读取训练数据和测试数据，并对它们做一些预处理\n",
    "    \"\"\"\n",
    "    seg=pkuseg.pkuseg()\n",
    "    \n",
    "    X_train=[\" \".join(seg.cut(x)) for x in X_train_raw]\n",
    "    X_test=[\" \".join(seg.cut(x)) for x in X_test_raw]\n",
    "    \n",
    "    return X_train,X_test\n",
    "    "
   ]
  },
  {
   "cell_type": "code",
   "execution_count": 4,
   "metadata": {},
   "outputs": [],
   "source": [
    "import numpy as np"
   ]
  },
  {
   "cell_type": "code",
   "execution_count": 7,
   "metadata": {},
   "outputs": [],
   "source": [
    "a=np.load('mydict.npy',allow_pickle=True)"
   ]
  },
  {
   "cell_type": "code",
   "execution_count": 9,
   "metadata": {},
   "outputs": [],
   "source": [
    "X_train_beforesplit,X_test=process_file(X_train_raw,X_test_raw)"
   ]
  },
  {
   "cell_type": "code",
   "execution_count": 10,
   "metadata": {},
   "outputs": [
    {
     "data": {
      "text/plain": [
       "10000"
      ]
     },
     "execution_count": 10,
     "metadata": {},
     "output_type": "execute_result"
    }
   ],
   "source": [
    "len(X_train_beforesplit)"
   ]
  },
  {
   "cell_type": "code",
   "execution_count": 11,
   "metadata": {},
   "outputs": [],
   "source": [
    "X_train,X_valid,y_train,y_valid = train_test_split(X_train_beforesplit,y_train_raw,test_size=0.3,stratify=y_train_raw,random_state=0)"
   ]
  },
  {
   "cell_type": "code",
   "execution_count": 12,
   "metadata": {},
   "outputs": [],
   "source": [
    "from sklearn.feature_extraction.text import TfidfVectorizer\n",
    "from sklearn.linear_model import LogisticRegression\n",
    "from sklearn.utils import shuffle\n",
    "from sklearn.model_selection import GridSearchCV\n",
    "from sklearn.model_selection import train_test_split\n",
    "from sklearn import datasets\n",
    "import sklearn\n",
    "from sklearn import svm\n",
    "from sklearn.utils import shuffle"
   ]
  },
  {
   "cell_type": "markdown",
   "metadata": {},
   "source": [
    "## tfidf"
   ]
  },
  {
   "cell_type": "code",
   "execution_count": 13,
   "metadata": {},
   "outputs": [
    {
     "name": "stdout",
     "output_type": "stream",
     "text": [
      "(7000, 8664) (7000,) (3000, 8664) (3000,)\n"
     ]
    }
   ],
   "source": [
    "vectorizer = TfidfVectorizer(token_pattern=r\"(?u)\\b\\w+\\b\")  \n",
    "X_train_tfidf = vectorizer.fit_transform(X_train)\n",
    "word = vectorizer.get_feature_names() \n",
    "X_valid_tfidf = vectorizer.transform(X_valid)  # 测试数据的特征\n",
    "print (np.shape(X_train_tfidf), np.shape(y_train),np.shape(X_valid_tfidf),np.shape(y_valid))\n",
    "\n",
    "X_train1,y_train1=shuffle(X_train_tfidf,y_train)"
   ]
  },
  {
   "cell_type": "code",
   "execution_count": 14,
   "metadata": {},
   "outputs": [
    {
     "name": "stdout",
     "output_type": "stream",
     "text": [
      "<bound method BaseEstimator.get_params of SVC(C=3.943284546565891, break_ties=False, cache_size=200, class_weight=None,\n",
      "    coef0=0.0, decision_function_shape='ovr', degree=3, gamma='scale',\n",
      "    kernel='rbf', max_iter=-1, probability=False, random_state=None,\n",
      "    shrinking=True, tol=0.001, verbose=False)>\n",
      "1.0\n"
     ]
    },
    {
     "data": {
      "text/plain": [
       "0.914611618234793"
      ]
     },
     "execution_count": 14,
     "metadata": {},
     "output_type": "execute_result"
    }
   ],
   "source": [
    "model=svm.SVC(C=10**0.5958581168005016)\n",
    "print(model.get_params)\n",
    "model.fit(X_train1,y_train1)\n",
    "print(model.score(X_train1,y_train1))\n",
    "y_pred=model.predict(X_valid_tfidf)\n",
    "sklearn.metrics.f1_score(y_pred,y_valid,average='macro')"
   ]
  },
  {
   "cell_type": "markdown",
   "metadata": {},
   "source": [
    "> test:0.88"
   ]
  },
  {
   "cell_type": "markdown",
   "metadata": {},
   "source": [
    "## tfidf+bigram"
   ]
  },
  {
   "cell_type": "code",
   "execution_count": 11,
   "metadata": {},
   "outputs": [
    {
     "name": "stdout",
     "output_type": "stream",
     "text": [
      "7000\n",
      "3000\n",
      "2000\n"
     ]
    }
   ],
   "source": [
    "train_comments_beforetfidf=[]\n",
    "valid_comments_beforetfidf=[]\n",
    "test_comments_beforetfidf=[]\n",
    "\n",
    "for index,value  in enumerate(X_train):\n",
    "    lentext=len(value.split())\n",
    "    value=value.split()\n",
    "    \n",
    "    for i in range(lentext-1):\n",
    "        value.append(\"\".join(value[i:i+2]))\n",
    "    train_comments_beforetfidf.append(\" \".join(value))\n",
    "\n",
    "print(len(train_comments_beforetfidf))\n",
    "\n",
    "\n",
    "for index,value  in enumerate(X_valid):\n",
    "    lentext=len(value.split())\n",
    "    value=value.split()\n",
    "    \n",
    "    for i in range(lentext-1):\n",
    "        value.append(\"\".join(value[i:i+2]))\n",
    "    valid_comments_beforetfidf.append(\" \".join(value))\n",
    "\n",
    "print(len(valid_comments_beforetfidf))\n",
    "\n",
    "for index,value  in enumerate(X_test):\n",
    "    lentext=len(value.split())\n",
    "    value=value.split()\n",
    "    \n",
    "    for i in range(lentext-1):\n",
    "        value.append(\"\".join(value[i:i+2]))\n",
    "    test_comments_beforetfidf.append(\" \".join(value))\n",
    "\n",
    "print(len(test_comments_beforetfidf))"
   ]
  },
  {
   "cell_type": "code",
   "execution_count": 12,
   "metadata": {},
   "outputs": [
    {
     "name": "stdout",
     "output_type": "stream",
     "text": [
      "(7000, 63389) (7000,) (3000, 63389) (3000,)\n"
     ]
    }
   ],
   "source": [
    "vectorizer = TfidfVectorizer(token_pattern=r\"(?u)\\b\\w+\\b\")  \n",
    "X_train_tfidf = vectorizer.fit_transform(train_comments_beforetfidf)\n",
    "word = vectorizer.get_feature_names() \n",
    "X_valid_tfidf = vectorizer.transform(valid_comments_beforetfidf)  # 测试数据的特征\n",
    "print (np.shape(X_train_tfidf), np.shape(y_train),np.shape(X_valid_tfidf),np.shape(y_valid))\n",
    "\n",
    "X_train1,y_train1=shuffle(X_train_tfidf,y_train)"
   ]
  },
  {
   "cell_type": "code",
   "execution_count": 14,
   "metadata": {},
   "outputs": [
    {
     "name": "stdout",
     "output_type": "stream",
     "text": [
      "<bound method BaseEstimator.get_params of SVC(C=1.2020614011792286, break_ties=False, cache_size=200,\n",
      "    class_weight='balanced', coef0=0.0, decision_function_shape='ovr', degree=3,\n",
      "    gamma='scale', kernel='rbf', max_iter=-1, probability=False,\n",
      "    random_state=None, shrinking=True, tol=0.001, verbose=False)>\n",
      "1.0\n"
     ]
    },
    {
     "data": {
      "text/plain": [
       "0.9138185757904067"
      ]
     },
     "execution_count": 14,
     "metadata": {},
     "output_type": "execute_result"
    }
   ],
   "source": [
    "model=svm.SVC(C=1.2020614011792285,class_weight=\"balanced\")\n",
    "print(model.get_params)\n",
    "model.fit(X_train1,y_train1)\n",
    "print(model.score(X_train1,y_train1))\n",
    "y_pred=model.predict(X_valid_tfidf)\n",
    "sklearn.metrics.f1_score(y_pred,y_valid,average='macro')"
   ]
  },
  {
   "cell_type": "markdown",
   "metadata": {},
   "source": [
    "> test:0.87"
   ]
  },
  {
   "cell_type": "code",
   "execution_count": 73,
   "metadata": {},
   "outputs": [
    {
     "name": "stdout",
     "output_type": "stream",
     "text": [
      "--- Optimizing SVM ---\n",
      "|   iter    |  target   |   expC    |\n",
      "-------------------------------------\n",
      "| \u001b[0m 1       \u001b[0m | \u001b[0m 0.8913  \u001b[0m | \u001b[0m 2.01    \u001b[0m |\n",
      "| \u001b[0m 2       \u001b[0m | \u001b[0m 0.8902  \u001b[0m | \u001b[0m 5.466   \u001b[0m |\n",
      "| \u001b[0m 3       \u001b[0m | \u001b[0m 0.8902  \u001b[0m | \u001b[0m 2.654   \u001b[0m |\n",
      "| \u001b[0m 4       \u001b[0m | \u001b[0m 0.8902  \u001b[0m | \u001b[0m 6.998   \u001b[0m |\n",
      "| \u001b[95m 5       \u001b[0m | \u001b[95m 0.8983  \u001b[0m | \u001b[95m 1.102   \u001b[0m |\n",
      "| \u001b[0m 6       \u001b[0m | \u001b[0m 0.8983  \u001b[0m | \u001b[0m 1.1     \u001b[0m |\n",
      "| \u001b[0m 7       \u001b[0m | \u001b[0m 0.8983  \u001b[0m | \u001b[0m 1.1     \u001b[0m |\n",
      "| \u001b[0m 8       \u001b[0m | \u001b[0m 0.8983  \u001b[0m | \u001b[0m 1.1     \u001b[0m |\n",
      "| \u001b[0m 9       \u001b[0m | \u001b[0m 0.8983  \u001b[0m | \u001b[0m 1.1     \u001b[0m |\n",
      "| \u001b[0m 10      \u001b[0m | \u001b[0m 0.8983  \u001b[0m | \u001b[0m 1.1     \u001b[0m |\n",
      "| \u001b[0m 11      \u001b[0m | \u001b[0m 0.8983  \u001b[0m | \u001b[0m 1.1     \u001b[0m |\n",
      "| \u001b[0m 12      \u001b[0m | \u001b[0m 0.8983  \u001b[0m | \u001b[0m 1.1     \u001b[0m |\n",
      "| \u001b[0m 13      \u001b[0m | \u001b[0m 0.8983  \u001b[0m | \u001b[0m 1.1     \u001b[0m |\n",
      "=====================================\n",
      "Final result: {'target': 0.8982854109763347, 'params': {'expC': 1.1020614011792285}}\n"
     ]
    }
   ],
   "source": [
    "# from bayes_opt import BayesianOptimization\n",
    "# from sklearn.model_selection import cross_val_score\n",
    "\n",
    "# def svc_cv(C, data, targets):\n",
    "#     estimator = svm.SVC(C=C, random_state=2,class_weight=\"balancf1_score \n",
    "#     cval = cross_val_score(estimator, data, targets, scoring='f1_macro', cv=4)\n",
    "#     return cval.mean()\n",
    "\n",
    "# def optimize_svc(data, targets):\n",
    "\n",
    "#     def svc_crossval(expC):\n",
    "#         C =  expC\n",
    "#         return svc_cv(C=C, data=data, targets=targets)\n",
    "\n",
    "#     optimizer = BayesianOptimization(\n",
    "#         f=svc_crossval,\n",
    "#         pbounds={\"expC\": (1.1, 7)},\n",
    "#         random_state=12,\n",
    "#         verbose=2\n",
    "#     )\n",
    "#     optimizer.maximize(init_points=3,n_iter=10)\n",
    "\n",
    "#     print(\"Final result:\", optimizer.max)\n",
    "    \n",
    "# print(\"--- Optimizing SVM ---\")\n",
    "# optimize_svc(X_train1,y_train1)"
   ]
  },
  {
   "cell_type": "markdown",
   "metadata": {},
   "source": [
    "## 数据保存"
   ]
  },
  {
   "cell_type": "code",
   "execution_count": 17,
   "metadata": {},
   "outputs": [],
   "source": [
    "X_test_tfidf = vectorizer.transform(test_comments_beforetfidf)"
   ]
  },
  {
   "cell_type": "code",
   "execution_count": 18,
   "metadata": {},
   "outputs": [],
   "source": [
    "y_pred=model.predict(X_test_tfidf)\n",
    "df_sample=pd.read_csv(sample_file, delimiter=\",\")\n",
    "df_sample[\"label\"]=y_pred\n",
    "df_sample.to_csv(\"answer.csv\",index=False)"
   ]
  },
  {
   "cell_type": "code",
   "execution_count": 19,
   "metadata": {},
   "outputs": [
    {
     "data": {
      "text/html": [
       "<div>\n",
       "<style scoped>\n",
       "    .dataframe tbody tr th:only-of-type {\n",
       "        vertical-align: middle;\n",
       "    }\n",
       "\n",
       "    .dataframe tbody tr th {\n",
       "        vertical-align: top;\n",
       "    }\n",
       "\n",
       "    .dataframe thead th {\n",
       "        text-align: right;\n",
       "    }\n",
       "</style>\n",
       "<table border=\"1\" class=\"dataframe\">\n",
       "  <thead>\n",
       "    <tr style=\"text-align: right;\">\n",
       "      <th></th>\n",
       "      <th>id</th>\n",
       "      <th>label</th>\n",
       "    </tr>\n",
       "  </thead>\n",
       "  <tbody>\n",
       "    <tr>\n",
       "      <th>0</th>\n",
       "      <td>0011f384-9e54-4fb4-a272-330a6cab6804</td>\n",
       "      <td>0</td>\n",
       "    </tr>\n",
       "    <tr>\n",
       "      <th>1</th>\n",
       "      <td>00223e4f-47e1-4fc8-9657-06444a7de9a5</td>\n",
       "      <td>0</td>\n",
       "    </tr>\n",
       "    <tr>\n",
       "      <th>2</th>\n",
       "      <td>00225350-c169-435c-84cf-970068df5b12</td>\n",
       "      <td>0</td>\n",
       "    </tr>\n",
       "    <tr>\n",
       "      <th>3</th>\n",
       "      <td>00a3190c-90c1-44c3-b809-7a9b1314cd27</td>\n",
       "      <td>0</td>\n",
       "    </tr>\n",
       "    <tr>\n",
       "      <th>4</th>\n",
       "      <td>00b3f76e-fda3-42cd-8884-25e03a5dba64</td>\n",
       "      <td>0</td>\n",
       "    </tr>\n",
       "    <tr>\n",
       "      <th>...</th>\n",
       "      <td>...</td>\n",
       "      <td>...</td>\n",
       "    </tr>\n",
       "    <tr>\n",
       "      <th>1995</th>\n",
       "      <td>ffbd3c14-56ba-412f-ac68-9f4ccbafe4f5</td>\n",
       "      <td>0</td>\n",
       "    </tr>\n",
       "    <tr>\n",
       "      <th>1996</th>\n",
       "      <td>ffcc4330-2b02-485b-a3bb-e1c7d42baaae</td>\n",
       "      <td>1</td>\n",
       "    </tr>\n",
       "    <tr>\n",
       "      <th>1997</th>\n",
       "      <td>ffcc53f6-7cf9-4e5e-9294-a9a33c7568f8</td>\n",
       "      <td>0</td>\n",
       "    </tr>\n",
       "    <tr>\n",
       "      <th>1998</th>\n",
       "      <td>ffd3ca4b-dc5f-4dbd-b249-bac065045870</td>\n",
       "      <td>0</td>\n",
       "    </tr>\n",
       "    <tr>\n",
       "      <th>1999</th>\n",
       "      <td>fff44f7a-1cef-4b7a-a2e5-1d2a111cb70d</td>\n",
       "      <td>0</td>\n",
       "    </tr>\n",
       "  </tbody>\n",
       "</table>\n",
       "<p>2000 rows × 2 columns</p>\n",
       "</div>"
      ],
      "text/plain": [
       "                                        id  label\n",
       "0     0011f384-9e54-4fb4-a272-330a6cab6804      0\n",
       "1     00223e4f-47e1-4fc8-9657-06444a7de9a5      0\n",
       "2     00225350-c169-435c-84cf-970068df5b12      0\n",
       "3     00a3190c-90c1-44c3-b809-7a9b1314cd27      0\n",
       "4     00b3f76e-fda3-42cd-8884-25e03a5dba64      0\n",
       "...                                    ...    ...\n",
       "1995  ffbd3c14-56ba-412f-ac68-9f4ccbafe4f5      0\n",
       "1996  ffcc4330-2b02-485b-a3bb-e1c7d42baaae      1\n",
       "1997  ffcc53f6-7cf9-4e5e-9294-a9a33c7568f8      0\n",
       "1998  ffd3ca4b-dc5f-4dbd-b249-bac065045870      0\n",
       "1999  fff44f7a-1cef-4b7a-a2e5-1d2a111cb70d      0\n",
       "\n",
       "[2000 rows x 2 columns]"
      ]
     },
     "execution_count": 19,
     "metadata": {},
     "output_type": "execute_result"
    }
   ],
   "source": [
    "df_look=pd.read_csv(\"answer.csv\", delimiter=\",\")\n",
    "df_look"
   ]
  },
  {
   "cell_type": "code",
   "execution_count": 46,
   "metadata": {},
   "outputs": [],
   "source": []
  },
  {
   "cell_type": "code",
   "execution_count": 47,
   "metadata": {},
   "outputs": [],
   "source": []
  },
  {
   "cell_type": "code",
   "execution_count": null,
   "metadata": {},
   "outputs": [],
   "source": []
  }
 ],
 "metadata": {
  "kernelspec": {
   "display_name": "pytorch_gpu",
   "language": "python",
   "name": "pytorch_gpu"
  },
  "language_info": {
   "codemirror_mode": {
    "name": "ipython",
    "version": 3
   },
   "file_extension": ".py",
   "mimetype": "text/x-python",
   "name": "python",
   "nbconvert_exporter": "python",
   "pygments_lexer": "ipython3",
   "version": "3.7.6"
  }
 },
 "nbformat": 4,
 "nbformat_minor": 4
}